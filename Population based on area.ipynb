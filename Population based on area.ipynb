{
 "cells": [
  {
   "cell_type": "markdown",
   "metadata": {},
   "source": [
    "Population Data "
   ]
  },
  {
   "cell_type": "code",
   "execution_count": 2,
   "metadata": {},
   "outputs": [],
   "source": [
    "import pandas as pd\n",
    "import matplotlib.pyplot as plt"
   ]
  },
  {
   "cell_type": "code",
   "execution_count": 26,
   "metadata": {},
   "outputs": [],
   "source": [
    "file = r'data/resident-population-by-planning-area-age-group-and-sex.csv'\n",
    "data_dem = pd.read_csv(file,parse_dates=['year'], dtype={'level_1':'category','level_2':'category','level_3':'category'})"
   ]
  },
  {
   "cell_type": "code",
   "execution_count": 27,
   "metadata": {},
   "outputs": [
    {
     "data": {
      "text/html": [
       "<div>\n",
       "<style scoped>\n",
       "    .dataframe tbody tr th:only-of-type {\n",
       "        vertical-align: middle;\n",
       "    }\n",
       "\n",
       "    .dataframe tbody tr th {\n",
       "        vertical-align: top;\n",
       "    }\n",
       "\n",
       "    .dataframe thead th {\n",
       "        text-align: right;\n",
       "    }\n",
       "</style>\n",
       "<table border=\"1\" class=\"dataframe\">\n",
       "  <thead>\n",
       "    <tr style=\"text-align: right;\">\n",
       "      <th></th>\n",
       "      <th>year</th>\n",
       "      <th>level_1</th>\n",
       "      <th>level_2</th>\n",
       "      <th>level_3</th>\n",
       "      <th>value</th>\n",
       "    </tr>\n",
       "  </thead>\n",
       "  <tbody>\n",
       "    <tr>\n",
       "      <th>0</th>\n",
       "      <td>2015-01-01</td>\n",
       "      <td>Total</td>\n",
       "      <td>Total</td>\n",
       "      <td>Total</td>\n",
       "      <td>3902690</td>\n",
       "    </tr>\n",
       "    <tr>\n",
       "      <th>1</th>\n",
       "      <td>2015-01-01</td>\n",
       "      <td>Total</td>\n",
       "      <td>Total</td>\n",
       "      <td>Ang Mo Kio- Total</td>\n",
       "      <td>174770</td>\n",
       "    </tr>\n",
       "    <tr>\n",
       "      <th>2</th>\n",
       "      <td>2015-01-01</td>\n",
       "      <td>Total</td>\n",
       "      <td>Total</td>\n",
       "      <td>Bedok- Total</td>\n",
       "      <td>289750</td>\n",
       "    </tr>\n",
       "    <tr>\n",
       "      <th>3</th>\n",
       "      <td>2015-01-01</td>\n",
       "      <td>Total</td>\n",
       "      <td>Total</td>\n",
       "      <td>Bishan- Total</td>\n",
       "      <td>90700</td>\n",
       "    </tr>\n",
       "    <tr>\n",
       "      <th>4</th>\n",
       "      <td>2015-01-01</td>\n",
       "      <td>Total</td>\n",
       "      <td>Total</td>\n",
       "      <td>Boon Lay- Total</td>\n",
       "      <td>30</td>\n",
       "    </tr>\n",
       "  </tbody>\n",
       "</table>\n",
       "</div>"
      ],
      "text/plain": [
       "        year level_1 level_2            level_3    value\n",
       "0 2015-01-01   Total   Total              Total  3902690\n",
       "1 2015-01-01   Total   Total  Ang Mo Kio- Total   174770\n",
       "2 2015-01-01   Total   Total       Bedok- Total   289750\n",
       "3 2015-01-01   Total   Total      Bishan- Total    90700\n",
       "4 2015-01-01   Total   Total    Boon Lay- Total       30"
      ]
     },
     "execution_count": 27,
     "metadata": {},
     "output_type": "execute_result"
    }
   ],
   "source": [
    "data_dem.head()"
   ]
  },
  {
   "cell_type": "code",
   "execution_count": 28,
   "metadata": {},
   "outputs": [],
   "source": [
    "#rename columns \n",
    "data_dem.columns = ['year','gender','age_group','region','value']"
   ]
  },
  {
   "cell_type": "code",
   "execution_count": 29,
   "metadata": {},
   "outputs": [
    {
     "name": "stdout",
     "output_type": "stream",
     "text": [
      "<class 'pandas.core.frame.DataFrame'>\n",
      "RangeIndex: 2359 entries, 0 to 2358\n",
      "Data columns (total 5 columns):\n",
      " #   Column     Non-Null Count  Dtype         \n",
      "---  ------     --------------  -----         \n",
      " 0   year       2359 non-null   datetime64[ns]\n",
      " 1   gender     2359 non-null   category      \n",
      " 2   age_group  2359 non-null   category      \n",
      " 3   region     2359 non-null   category      \n",
      " 4   value      2359 non-null   int64         \n",
      "dtypes: category(3), datetime64[ns](1), int64(1)\n",
      "memory usage: 47.7 KB\n"
     ]
    }
   ],
   "source": [
    "data_dem.info()"
   ]
  },
  {
   "cell_type": "code",
   "execution_count": null,
   "metadata": {},
   "outputs": [],
   "source": []
  },
  {
   "cell_type": "code",
   "execution_count": 30,
   "metadata": {},
   "outputs": [
    {
     "data": {
      "text/plain": [
       "Total        134\n",
       "55 - 59      126\n",
       "15 - 19      126\n",
       "35 - 39      126\n",
       "40 - 44      126\n",
       "45 - 49      126\n",
       "50 - 54      126\n",
       "5 - 9        126\n",
       "60 - 64      126\n",
       "10 - 14      125\n",
       "0 - 4        125\n",
       "20 - 24      124\n",
       "30 - 34      123\n",
       "25 - 29      123\n",
       "65 - 69      122\n",
       "70 - 74      121\n",
       "75 - 79      119\n",
       "85 & Over    118\n",
       "80 - 84      117\n",
       "Name: age_group, dtype: int64"
      ]
     },
     "execution_count": 30,
     "metadata": {},
     "output_type": "execute_result"
    }
   ],
   "source": [
    "data_dem.age_group.value_counts()"
   ]
  },
  {
   "cell_type": "code",
   "execution_count": 31,
   "metadata": {},
   "outputs": [],
   "source": [
    "region_age_group = data_dem.groupby(['region','age_group'])['value'].sum()"
   ]
  },
  {
   "cell_type": "code",
   "execution_count": 32,
   "metadata": {},
   "outputs": [
    {
     "data": {
      "text/plain": [
       "region             age_group\n",
       "Ang Mo Kio- Total  0 - 4         13580.0\n",
       "                   10 - 14       16580.0\n",
       "                   15 - 19       18640.0\n",
       "                   20 - 24       20620.0\n",
       "                   25 - 29       22350.0\n",
       "                                  ...   \n",
       "Yishun- Total      70 - 74        8860.0\n",
       "                   75 - 79        6370.0\n",
       "                   80 - 84        3870.0\n",
       "                   85 & Over      2960.0\n",
       "                   Total        403940.0\n",
       "Name: value, Length: 950, dtype: float64"
      ]
     },
     "execution_count": 32,
     "metadata": {},
     "output_type": "execute_result"
    }
   ],
   "source": [
    "region_age_group"
   ]
  },
  {
   "cell_type": "code",
   "execution_count": 36,
   "metadata": {},
   "outputs": [],
   "source": [
    "#region_age_group[region_age_group['region'].isin(\"Bedok-Total\")]"
   ]
  },
  {
   "cell_type": "code",
   "execution_count": null,
   "metadata": {},
   "outputs": [],
   "source": []
  },
  {
   "cell_type": "code",
   "execution_count": null,
   "metadata": {},
   "outputs": [],
   "source": []
  },
  {
   "cell_type": "code",
   "execution_count": 38,
   "metadata": {},
   "outputs": [],
   "source": [
    "#!mkdir summary_output\n",
    "region_age_group.to_csv('summary_output/region_age_group.csv')"
   ]
  },
  {
   "cell_type": "code",
   "execution_count": null,
   "metadata": {},
   "outputs": [],
   "source": []
  }
 ],
 "metadata": {
  "kernelspec": {
   "display_name": "Python 3",
   "language": "python",
   "name": "python3"
  },
  "language_info": {
   "codemirror_mode": {
    "name": "ipython",
    "version": 3
   },
   "file_extension": ".py",
   "mimetype": "text/x-python",
   "name": "python",
   "nbconvert_exporter": "python",
   "pygments_lexer": "ipython3",
   "version": "3.8.1"
  }
 },
 "nbformat": 4,
 "nbformat_minor": 4
}
