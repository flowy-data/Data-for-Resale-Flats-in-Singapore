{
 "cells": [
  {
   "cell_type": "code",
   "execution_count": null,
   "metadata": {},
   "outputs": [],
   "source": [
    "file1 = 'data/resale-flat-prices-based-on-registration-date-from-jan-2017-onwards.csv'\n",
    "file2 = 'data/resale-flat-prices-based-on-registration-date-from-jan-2015-to-dec-2016.csv'\n",
    "file3 = 'data/resale-flat-prices-based-on-registration-date-from-mar-2012-to-dec-2014.csv'\n",
    "file4 = 'data/resale-flat-prices-based-on-approval-date-2000-feb-2012.csv'\n",
    "file5 = 'data/resale-flat-prices-based-on-approval-date-1990-1999.csv'\n",
    "file_list = [file1,file2,file3,file4,file5]\n",
    "\n",
    "resale2015 = pd.read_csv(file2)\n",
    "resale2015.head()\n",
    "print(\"dimensions of resale price 2015:\" + str(resale2015.shape))\n",
    "#print(resale2015.columns)\n",
    "\n",
    "resale2012 = pd.read_csv(file3)\n",
    "resale2012.head()\n",
    "print(\"dimensions of resale price 2012:\" + str(resale2012.shape))\n",
    "#print(resale2012.columns)\n",
    "\n",
    "resale2000 = pd.read_csv(file4)\n",
    "resale2000.head()\n",
    "print(\"dimensions of resale price 2000:\" + str(resale2000.shape))\n",
    "#print(resale2000.columns)\n",
    "\n",
    "resale1990 = pd.read_csv(file5)\n",
    "resale1990.head()\n",
    "print(\"dimensions of resale price 1990:\" + str(resale1990.shape))\n",
    "#print(resale1990.columns)\n",
    "\n",
    "print(\"check columns are similar:\")\n",
    "\n",
    "columnnames = [resale2017.columns , resale2015.columns , resale2012.columns, resale2000.columns, resale1990.columns]\n",
    "print(columnnames)\n",
    "\n"
   ]
  }
 ],
 "metadata": {
  "kernelspec": {
   "display_name": "Python 3",
   "language": "python",
   "name": "python3"
  },
  "language_info": {
   "codemirror_mode": {
    "name": "ipython",
    "version": 3
   },
   "file_extension": ".py",
   "mimetype": "text/x-python",
   "name": "python",
   "nbconvert_exporter": "python",
   "pygments_lexer": "ipython3",
   "version": "3.8.1"
  }
 },
 "nbformat": 4,
 "nbformat_minor": 4
}
