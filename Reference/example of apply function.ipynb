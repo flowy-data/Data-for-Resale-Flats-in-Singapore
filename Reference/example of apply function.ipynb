{
 "cells": [
  {
   "cell_type": "code",
   "execution_count": 2,
   "metadata": {},
   "outputs": [],
   "source": [
    "import pandas as pd"
   ]
  },
  {
   "cell_type": "code",
   "execution_count": 4,
   "metadata": {},
   "outputs": [
    {
     "name": "stdout",
     "output_type": "stream",
     "text": [
      "   col1  col2\n",
      "0     1     4\n",
      "1     2     5\n",
      "2     3     6\n",
      "3     4     7\n",
      "4     5     8\n",
      "5     6     9\n"
     ]
    }
   ],
   "source": [
    "dictionary = {\"col1\": [1,2,3,4,5,6], \"col2\":[4,5,6,7,8,9]}\n",
    "df = pd.DataFrame(dictionary)\n",
    "print(df)"
   ]
  },
  {
   "cell_type": "code",
   "execution_count": 6,
   "metadata": {},
   "outputs": [
    {
     "name": "stdout",
     "output_type": "stream",
     "text": [
      "1\n",
      "4\n",
      "2\n",
      "5\n",
      "3\n",
      "6\n",
      "4\n",
      "7\n",
      "5\n",
      "8\n",
      "6\n",
      "9\n"
     ]
    },
    {
     "data": {
      "text/plain": [
       "0    lower\n",
       "1    lower\n",
       "2    lower\n",
       "3    lower\n",
       "4    lower\n",
       "dtype: object"
      ]
     },
     "execution_count": 6,
     "metadata": {},
     "output_type": "execute_result"
    }
   ],
   "source": [
    "def classify_num(row):\n",
    "    x= row['col1']\n",
    "    y= row['col2']\n",
    "    print(x)\n",
    "    print(y)\n",
    "    if x>y:\n",
    "        return \"higher\"\n",
    "    else:\n",
    "        return \"lower\"\n",
    "test_class= df.apply(classify_num,axis=1)\n",
    "test_class.head()"
   ]
  }
 ],
 "metadata": {
  "kernelspec": {
   "display_name": "Python 3",
   "language": "python",
   "name": "python3"
  },
  "language_info": {
   "codemirror_mode": {
    "name": "ipython",
    "version": 3
   },
   "file_extension": ".py",
   "mimetype": "text/x-python",
   "name": "python",
   "nbconvert_exporter": "python",
   "pygments_lexer": "ipython3",
   "version": "3.6.8"
  }
 },
 "nbformat": 4,
 "nbformat_minor": 4
}
